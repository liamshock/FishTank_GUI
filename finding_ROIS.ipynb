{
 "cells": [
  {
   "cell_type": "markdown",
   "metadata": {},
   "source": [
    "# Find ROIS\n",
    "\n",
    "Many of the pixels in the frames from all camera views cant possibly contain a fish. Regions outside of the tank, for example.\n",
    "The actual pixel region that can contain fish may vary experiment to experiment, as the interior cage may move, the cameras may have been moved, etc.\n",
    "\n",
    "In this document you can interactively find the ROIs"
   ]
  },
  {
   "cell_type": "code",
   "execution_count": 1,
   "metadata": {},
   "outputs": [],
   "source": [
    "import numpy as np\n",
    "import h5py\n",
    "import cv2\n",
    "from joblib import load\n",
    "import matplotlib.pyplot as plt\n",
    "%matplotlib widget\n",
    "import time\n",
    "%load_ext autoreload\n",
    "import os\n",
    "%autoreload 2\n",
    "\n",
    "from ipywidgets import Video, Image, VBox, Text\n",
    "from sidecar import Sidecar\n",
    "from IPython.display import display\n",
    "from scipy.interpolate import interp1d\n",
    "from scipy import interpolate\n",
    "import numpy as np\n",
    "import os\n",
    "import cv2\n",
    "import base64\n",
    "import warnings\n",
    "from IPython.core.debugger import set_trace\n",
    "\n",
    "\n",
    "from ipywidgets import interact, interactive, fixed, interact_manual, FloatSlider, Layout, AppLayout\n",
    "import ipywidgets as widgets\n",
    "\n",
    "\n",
    "# Our custom-made imports\n",
    "import sys\n",
    "sys.path.append('./lib/')\n",
    "from DataManagement import SplitdataManager, Filepaths, Calibration"
   ]
  },
  {
   "cell_type": "code",
   "execution_count": null,
   "metadata": {},
   "outputs": [],
   "source": []
  },
  {
   "cell_type": "markdown",
   "metadata": {},
   "source": [
    "# Set the experiment path"
   ]
  },
  {
   "cell_type": "code",
   "execution_count": null,
   "metadata": {},
   "outputs": [],
   "source": []
  },
  {
   "cell_type": "code",
   "execution_count": 2,
   "metadata": {},
   "outputs": [],
   "source": [
    "# --- set an experiment folder path, and make a splitdataManager ---- #\n",
    "experiment_path = '/media/stephens-group/guest_drive/labelling/complete_shortfin_experiment/FishTank20200130_153857/'\n",
    "splitman = SplitdataManager(experiment_path)"
   ]
  },
  {
   "cell_type": "code",
   "execution_count": null,
   "metadata": {},
   "outputs": [],
   "source": []
  },
  {
   "cell_type": "markdown",
   "metadata": {},
   "source": [
    "# Examine the frames"
   ]
  },
  {
   "cell_type": "code",
   "execution_count": 65,
   "metadata": {},
   "outputs": [
    {
     "data": {
      "application/vnd.jupyter.widget-view+json": {
       "model_id": "8050872b67004dcb8e4d65a0d53b8c91",
       "version_major": 2,
       "version_minor": 0
      },
      "text/plain": [
       "Canvas(toolbar=Toolbar(toolitems=[('Home', 'Reset original view', 'home', 'home'), ('Back', 'Back to previous …"
      ]
     },
     "metadata": {},
     "output_type": "display_data"
    },
    {
     "data": {
      "application/vnd.jupyter.widget-view+json": {
       "model_id": "c1f47dba9be0483495267b5aa2bd4e8e",
       "version_major": 2,
       "version_minor": 0
      },
      "text/plain": [
       "Canvas(toolbar=Toolbar(toolitems=[('Home', 'Reset original view', 'home', 'home'), ('Back', 'Back to previous …"
      ]
     },
     "metadata": {},
     "output_type": "display_data"
    },
    {
     "data": {
      "application/vnd.jupyter.widget-view+json": {
       "model_id": "e3bc9690a325461cb738cc71da79471b",
       "version_major": 2,
       "version_minor": 0
      },
      "text/plain": [
       "Canvas(toolbar=Toolbar(toolitems=[('Home', 'Reset original view', 'home', 'home'), ('Back', 'Back to previous …"
      ]
     },
     "metadata": {},
     "output_type": "display_data"
    },
    {
     "data": {
      "application/vnd.jupyter.widget-view+json": {
       "model_id": "091421dd92e24489aaf4cbe954b1b6dc",
       "version_major": 2,
       "version_minor": 0
      },
      "text/plain": [
       "Canvas(toolbar=Toolbar(toolitems=[('Home', 'Reset original view', 'home', 'home'), ('Back', 'Back to previous …"
      ]
     },
     "metadata": {},
     "output_type": "display_data"
    },
    {
     "data": {
      "application/vnd.jupyter.widget-view+json": {
       "model_id": "ed757102683641f98c89c6904e014d42",
       "version_major": 2,
       "version_minor": 0
      },
      "text/plain": [
       "Canvas(toolbar=Toolbar(toolitems=[('Home', 'Reset original view', 'home', 'home'), ('Back', 'Back to previous …"
      ]
     },
     "metadata": {},
     "output_type": "display_data"
    },
    {
     "data": {
      "application/vnd.jupyter.widget-view+json": {
       "model_id": "3e1087793a594811a4af6507e7fe45dd",
       "version_major": 2,
       "version_minor": 0
      },
      "text/plain": [
       "Canvas(toolbar=Toolbar(toolitems=[('Home', 'Reset original view', 'home', 'home'), ('Back', 'Back to previous …"
      ]
     },
     "metadata": {},
     "output_type": "display_data"
    },
    {
     "data": {
      "text/plain": [
       "<matplotlib.image.AxesImage at 0x7fe71310fbe0>"
      ]
     },
     "execution_count": 65,
     "metadata": {},
     "output_type": "execute_result"
    }
   ],
   "source": [
    "# --- get the first frame from the first movie for each camera ---- #\n",
    "\n",
    "# set the frame index and SplitData index\n",
    "sdIdx = 0 \n",
    "fIdx = 0\n",
    "movPaths = [splitman.splitdata_paths[sdIdx][i]+'.mp4' for i in range(3)]  # get paths for splitdata moves all cas\n",
    "caps = [cv2.VideoCapture(video_path) for video_path in movPaths]          # open the movie caps\n",
    "[cap.set(1,fIdx) for cap in caps]                                         # go to current frame\n",
    "# grab the frame from each camera\n",
    "if caps[0].isOpened() and caps[1].isOpened() and caps[2].isOpened():  \n",
    "    # grab the 3 images\n",
    "    ret_xz, frame_xz = caps[0].read()\n",
    "    if not ret_xz:\n",
    "        raise TypeError('xz movie for splitdata_idx={0} not opening'.format(splitdata_idx.value))\n",
    "    ret_xy, frame_xy = caps[1].read()\n",
    "    if not ret_xy:\n",
    "        raise TypeError('xy movie for splitdata_idx={0} not opening'.format(splitdata_idx.value))\n",
    "    ret_yz, frame_yz = caps[2].read()\n",
    "    if not ret_yz:\n",
    "        raise TypeError('yz movie for splitdata_idx={0} not opening'.format(splitdata_idx.value))\n",
    "    frames = [frame_xz, frame_xy, frame_yz]\n",
    "# close everything before we finish\n",
    "[caps[capIdx].release() for capIdx in range(3)];\n",
    "\n",
    "\n",
    "raw_frames = list(frames)\n",
    "\n",
    "# --- Define ROIS ----- #\n",
    "# tlc format: opencv (col, row) format with (0,0) in top left corner of image\n",
    "# width: number of pixels along cols\n",
    "# height: number of pixels along rows\n",
    "                    \n",
    "bbox_info = {\"xz_tlc\": [175, 175], \"xz_width\": 930, \"xz_height\": 820,\n",
    "             \"xy_tlc\": [246, 120], \"xy_width\": 760, \"xy_height\": 755,\n",
    "             \"yz_tlc\": [180, 180], \"yz_width\": 940, \"yz_height\": 800}\n",
    "\n",
    "\n",
    "\n",
    "# --- Draw ROIS ----- #\n",
    "crop_details = []\n",
    "alpha = 0.3\n",
    "for camIdx, camName in enumerate(['xz', 'xy', 'yz']):\n",
    "    # get the frame\n",
    "    frame = np.copy(frames[camIdx])\n",
    "    # make a copy of the image and draw the rectangle\n",
    "    overlay = np.copy(frames[camIdx])\n",
    "    # get the tlc, width and height of ROI\n",
    "    x, y = bbox_info[camName + '_tlc']\n",
    "    w = bbox_info[camName + '_width']\n",
    "    h = bbox_info[camName + '_height']\n",
    "    crop_details.append([x, y, x+w, y+h])\n",
    "    cv2.rectangle(overlay, (x, y), (x+w, y+h), (0, 200, 0), -1)  # A filled rectangle\n",
    "    # combine the images in a weid\n",
    "    edited_frame = cv2.addWeighted(overlay, alpha, frame, 1-alpha, 0)\n",
    "    frames[camIdx] = edited_frame\n",
    "                        \n",
    "# ------------ plot the images -------------#\n",
    "\n",
    "# XZ\n",
    "camIdx = 0\n",
    "fig1 = plt.figure()\n",
    "ax1 = fig1.add_subplot(1, 1, 1)\n",
    "ax1.set_title('XZ')\n",
    "ax1.imshow(frames[camIdx])\n",
    "fig2 = plt.figure()\n",
    "ax2 = fig2.add_subplot(1, 1, 1)\n",
    "ax2.set_title('XZ')\n",
    "ax2.imshow( frames[camIdx][crop_details[camIdx][1]:crop_details[camIdx][3], crop_details[camIdx][0]:crop_details[camIdx][2]] )\n",
    "\n",
    "\n",
    "camIdx = 1\n",
    "fig3 = plt.figure()\n",
    "ax3 = fig3.add_subplot(1, 1, 1)\n",
    "ax3.set_title('XY')\n",
    "ax3.imshow(frames[camIdx])\n",
    "fig4 = plt.figure()\n",
    "ax4 = fig4.add_subplot(1, 1, 1)\n",
    "ax4.set_title('XY')\n",
    "ax4.imshow( frames[camIdx][crop_details[camIdx][1]:crop_details[camIdx][3], crop_details[camIdx][0]:crop_details[camIdx][2]] )\n",
    "\n",
    "\n",
    "camIdx = 2\n",
    "fig5 = plt.figure()\n",
    "ax5 = fig5.add_subplot(1, 1, 1)\n",
    "ax5.set_title('YZ')\n",
    "ax5.imshow(frames[camIdx])\n",
    "fig6 = plt.figure()\n",
    "ax6 = fig6.add_subplot(1, 1, 1)\n",
    "ax6.set_title('YZ')\n",
    "ax6.imshow( frames[camIdx][crop_details[camIdx][1]:crop_details[camIdx][3], crop_details[camIdx][0]:crop_details[camIdx][2]] )\n",
    "\n",
    "\n",
    "\n"
   ]
  },
  {
   "cell_type": "code",
   "execution_count": null,
   "metadata": {},
   "outputs": [],
   "source": []
  },
  {
   "cell_type": "code",
   "execution_count": 69,
   "metadata": {},
   "outputs": [
    {
     "data": {
      "text/plain": [
       "{'xz_tlc': [175, 175],\n",
       " 'xz_width': 930,\n",
       " 'xz_height': 820,\n",
       " 'xy_tlc': [246, 120],\n",
       " 'xy_width': 760,\n",
       " 'xy_height': 755,\n",
       " 'yz_tlc': [180, 180],\n",
       " 'yz_width': 940,\n",
       " 'yz_height': 800}"
      ]
     },
     "execution_count": 69,
     "metadata": {},
     "output_type": "execute_result"
    }
   ],
   "source": [
    "bbox_info"
   ]
  },
  {
   "cell_type": "code",
   "execution_count": null,
   "metadata": {},
   "outputs": [],
   "source": []
  },
  {
   "cell_type": "code",
   "execution_count": null,
   "metadata": {},
   "outputs": [],
   "source": []
  },
  {
   "cell_type": "code",
   "execution_count": null,
   "metadata": {},
   "outputs": [],
   "source": []
  },
  {
   "cell_type": "code",
   "execution_count": null,
   "metadata": {},
   "outputs": [],
   "source": []
  },
  {
   "cell_type": "code",
   "execution_count": null,
   "metadata": {},
   "outputs": [],
   "source": []
  },
  {
   "cell_type": "code",
   "execution_count": null,
   "metadata": {},
   "outputs": [],
   "source": []
  },
  {
   "cell_type": "code",
   "execution_count": null,
   "metadata": {},
   "outputs": [],
   "source": []
  },
  {
   "cell_type": "code",
   "execution_count": null,
   "metadata": {},
   "outputs": [],
   "source": []
  },
  {
   "cell_type": "code",
   "execution_count": null,
   "metadata": {},
   "outputs": [],
   "source": []
  },
  {
   "cell_type": "code",
   "execution_count": null,
   "metadata": {},
   "outputs": [],
   "source": []
  },
  {
   "cell_type": "code",
   "execution_count": null,
   "metadata": {},
   "outputs": [],
   "source": []
  },
  {
   "cell_type": "code",
   "execution_count": null,
   "metadata": {},
   "outputs": [],
   "source": []
  },
  {
   "cell_type": "code",
   "execution_count": null,
   "metadata": {},
   "outputs": [],
   "source": []
  },
  {
   "cell_type": "code",
   "execution_count": null,
   "metadata": {},
   "outputs": [],
   "source": []
  },
  {
   "cell_type": "code",
   "execution_count": null,
   "metadata": {},
   "outputs": [],
   "source": []
  }
 ],
 "metadata": {
  "kernelspec": {
   "display_name": "FishTank",
   "language": "python",
   "name": "fishtank"
  },
  "language_info": {
   "codemirror_mode": {
    "name": "ipython",
    "version": 3
   },
   "file_extension": ".py",
   "mimetype": "text/x-python",
   "name": "python",
   "nbconvert_exporter": "python",
   "pygments_lexer": "ipython3",
   "version": "3.6.12"
  }
 },
 "nbformat": 4,
 "nbformat_minor": 4
}
